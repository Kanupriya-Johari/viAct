{
  "metadata": {
    "kernelspec": {
      "name": "python",
      "display_name": "Python (Pyodide)",
      "language": "python"
    },
    "language_info": {
      "name": ""
    }
  },
  "nbformat_minor": 4,
  "nbformat": 4,
  "cells": [
    {
      "cell_type": "code",
      "source": "!pip install langchain openai",
      "metadata": {
        "trusted": true
      },
      "outputs": [],
      "execution_count": null
    },
    {
      "cell_type": "code",
      "source": "import langchain\nimport openai",
      "metadata": {
        "trusted": true
      },
      "outputs": [],
      "execution_count": null
    },
    {
      "cell_type": "code",
      "source": "openai.api_key = 'openai_key'",
      "metadata": {
        "trusted": true
      },
      "outputs": [],
      "execution_count": null
    },
    {
      "cell_type": "code",
      "source": "# Define the LangChain components and the RAG function\nindexing_pipeline = langchain.IndexingPipeline()\nretrieval_pipeline = langchain.RetrievalPipeline()\ngeneration_pipeline = langchain.GenerationPipeline()\n\ndef query_rag(user_query, document_path):\n    indexed_data = indexing_pipeline.index_document(document_path)\n    retrieved_data = retrieval_pipeline.retrieve_data(user_query, indexed_data)\n    response = generation_pipeline.generate_answer(user_query, retrieved_data)\n    return response, retrieved_data",
      "metadata": {
        "trusted": true
      },
      "outputs": [],
      "execution_count": null
    },
    {
      "cell_type": "code",
      "source": "user_query = \"What are the symptoms of COVID-19?\"\ngoogle_drive_link = \"https://drive.google.com/file/d/1K6hCX6GQPLocbt3HU5o1oaOtdAiQ0Z8Y/view?usp=sharing\"\n\nresponse, referenced_documents = query_rag(user_query, google_drive_link)\nprint(\"Response:\", response)\nprint(\"Referenced Documents:\", referenced_documents)\n\n",
      "metadata": {
        "trusted": true
      },
      "outputs": [],
      "execution_count": null
    }
  ]
}